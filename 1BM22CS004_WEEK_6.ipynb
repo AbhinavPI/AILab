{
  "nbformat": 4,
  "nbformat_minor": 0,
  "metadata": {
    "colab": {
      "provenance": [],
      "authorship_tag": "ABX9TyO9Ea/4cgmwy9I2JVdv3dmB",
      "include_colab_link": true
    },
    "kernelspec": {
      "name": "python3",
      "display_name": "Python 3"
    },
    "language_info": {
      "name": "python"
    }
  },
  "cells": [
    {
      "cell_type": "markdown",
      "metadata": {
        "id": "view-in-github",
        "colab_type": "text"
      },
      "source": [
        "<a href=\"https://colab.research.google.com/github/AbhinavPI/AILab/blob/main/1BM22CS004_WEEK_6.ipynb\" target=\"_parent\"><img src=\"https://colab.research.google.com/assets/colab-badge.svg\" alt=\"Open In Colab\"/></a>"
      ]
    },
    {
      "cell_type": "code",
      "execution_count": 1,
      "metadata": {
        "colab": {
          "base_uri": "https://localhost:8080/"
        },
        "id": "Xx5AIUQ-tA6r",
        "outputId": "409345b6-7399-4a2a-ffd1-5ed283a8c974"
      },
      "outputs": [
        {
          "output_type": "stream",
          "name": "stdout",
          "text": [
            "KB entails R\n"
          ]
        }
      ],
      "source": [
        "import random\n",
        "import itertools\n",
        "\n",
        "def eval_formula(formula, assignment):\n",
        "    formula = formula.replace(\"→\", \" or not \").replace(\"↔\", \"==\")\n",
        "    env = {var: value for var, value in assignment.items()}\n",
        "    return eval(formula, {}, env)\n",
        "\n",
        "def entails(KB, alpha):\n",
        "    variables = set(var for clause in KB + [alpha] for var in clause if var.isalpha())\n",
        "    truth_assignments = itertools.product([True, False], repeat=len(variables))\n",
        "    var_list = list(variables)\n",
        "    for assignment in truth_assignments:\n",
        "        assignment_dict = dict(zip(var_list, assignment))\n",
        "        kb_combined = all(eval_formula(formula, assignment_dict) for formula in KB)\n",
        "        alpha_true = eval_formula(alpha, assignment_dict)\n",
        "        if kb_combined and not alpha_true:\n",
        "            return False\n",
        "    return True\n",
        "\n",
        "# Example Usage\n",
        "KB = [\"not Q or P\", \"not P or not Q\", \"Q or R\"]\n",
        "alpha = \"R\"\n",
        "\n",
        "if entails(KB, alpha):\n",
        "    print(\"KB entails R\")\n",
        "else:\n",
        "    print(\"KB does not entail R\")\n"
      ]
    }
  ]
}