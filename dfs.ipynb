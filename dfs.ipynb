class PuzzleState:
    def __init__(self, board, zero_pos, moves):
        self.board = board
        self.zero_pos = zero_pos
        self.moves = moves

    def __hash__(self):
        return hash(tuple(map(tuple, self.board)))

    def __eq__(self, other):
        return self.board == other.board

def get_neighbors(zero_pos):
    directions = [(-1, 0), (1, 0), (0, -1), (0, 1)]
    neighbors = []
    for d in directions:
        new_pos = (zero_pos[0] + d[0], zero_pos[1] + d[1])
        if 0 <= new_pos[0] < 3 and 0 <= new_pos[1] < 3:
            neighbors.append(new_pos)
    return neighbors

def swap(board, pos1, pos2):
    new_board = [row[:] for row in board]
    new_board[pos1[0]][pos1[1]], new_board[pos2[0]][pos2[1]] = new_board[pos2[0]][pos2[1]], new_board[pos1[0]][pos1[1]]
    return new_board

def is_goal(board):
    return board == [[1, 2, 3], [4, 5, 6], [7, 8, 0]]

def dfs(state, visited):
    if is_goal(state.board):
        return state.moves
    visited.add(state)

    for neighbor in get_neighbors(state.zero_pos):
        new_board = swap(state.board, state.zero_pos, neighbor)
        new_state = PuzzleState(new_board, neighbor, state.moves + [new_board])
        if new_state not in visited:
            result = dfs(new_state, visited)
            if result:
                return result
    return None

def solve_8_puzzle(initial_board):
    zero_pos = next((i, j) for i in range(3) for j in range(3) if initial_board[i][j] == 0)
    initial_state = PuzzleState(initial_board, zero_pos, [])
    visited = set()
    return dfs(initial_state, visited)

initial_board = [[1, 2, 3], [4, 0, 6], [7, 5, 8]]
solution = solve_8_puzzle(initial_board)
print(solution)
