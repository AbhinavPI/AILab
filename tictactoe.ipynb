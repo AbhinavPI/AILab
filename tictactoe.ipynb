import random
def initialize_board():
    return [' ' for _ in range(9)]

# Print the board
def print_board(board):
    for row in [board[i:i+3] for i in range(0, 9, 3)]:
        print('| ' + ' | '.join(row) + ' |')

# Check for a win
def check_win(board, player):
    win_combinations = [(0, 1, 2), (3, 4, 5), (6, 7, 8),
                        (0, 3, 6), (1, 4, 7), (2, 5, 8),
                        (0, 4, 8), (2, 4, 6)]
    for combo in win_combinations:
        if all(board[i] == player for i in combo):
            return True
    return False

# Check for a draw
def check_draw(board):
    return ' ' not in board

# Make a move
def make_move(board, player, position):
    if board[position] == ' ':
        board[position] = player
        return True
    return False

# Get player's move
def player_move(board):
    while True:
        position = input("Choose your move (1-9): ")
        if position.isdigit() and 1 <= int(position) <= 9:
            position = int(position) - 1
            if make_move(board, 'X', position):
                break
            else:
                print("That position is already taken!")
        else:
            print("Please enter a valid number between 1 and 9.")

# Computer move (random choice)
def computer_move(board):
    available_moves = [i for i in range(9) if board[i] == ' ']
    position = random.choice(available_moves)
    make_move(board, 'O', position)

# Main game loop
def play_game():
    board = initialize_board()
    print("Welcome to Tic Tac Toe!")
    print_board(board)

    while True:
        # Player move
        player_move(board)
        print_board(board)
        if check_win(board, 'X'):
            print("Congratulations! You win!")
            break
        if check_draw(board):
            print("It's a draw!")
            break

        # Computer move
        computer_move(board)
        print("Computer's move:")
        print_board(board)
        if check_win(board, 'O'):
            print("Computer wins!")
            break
        if check_draw(board):
            print("It's a draw!")
            break

# Start the game
play_game()
