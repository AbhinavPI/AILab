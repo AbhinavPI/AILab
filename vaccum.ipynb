class VacuumCleaner:
    def __init__(self, environment):
        self.environment = environment
        self.position = (0, 0)
        self.cleaned = set()

    def is_dirty(self):
        return self.environment[self.position[0]][self.position[1]] == 1

    def clean(self):
        if self.is_dirty():
            self.environment[self.position[0]][self.position[1]] = 0
            self.cleaned.add(self.position)

    def move(self, direction):
        x, y = self.position
        if direction == 'up' and x > 0:
            self.position = (x - 1, y)
        elif direction == 'down' and x < len(self.environment) - 1:
            self.position = (x + 1, y)
        elif direction == 'left' and y > 0:
            self.position = (x, y - 1)
        elif direction == 'right' and y < len(self.environment[0]) - 1:
            self.position = (x, y + 1)

    def step(self):
        if self.is_dirty():
            self.clean()
        else:
            for direction in ['up', 'down', 'left', 'right']:
                self.move(direction)
                if self.is_dirty():
                    self.clean()
                    break

    def run(self):
        while len(self.cleaned) < sum(row.count(1) for row in self.environment):
            self.step()

initial_environment = [
    [1, 0, 1],
    [0, 1, 0],
    [1, 0, 1]
]

agent = VacuumCleaner(initial_environment)
agent.run()

print("Final environment state:")
for row in agent.environment:
    print(row)
